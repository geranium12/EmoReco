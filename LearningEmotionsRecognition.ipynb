{
 "cells": [
  {
   "cell_type": "markdown",
   "metadata": {},
   "source": [
    "# Нейросеть для определения эмоций по ключевым точкам"
   ]
  },
  {
   "cell_type": "code",
   "execution_count": 12,
   "metadata": {
    "collapsed": true
   },
   "outputs": [],
   "source": [
    "from matplotlib import pylab\n",
    "from six.moves import cPickle as pickle\n",
    "import numpy as np\n",
    "import tensorflow as tf\n",
    "import matplotlib.pyplot as plot"
   ]
  },
  {
   "cell_type": "markdown",
   "metadata": {
    "collapsed": true
   },
   "source": [
    "Загрузим подготовленные ранее данные"
   ]
  },
  {
   "cell_type": "code",
   "execution_count": 14,
   "metadata": {
    "collapsed": true
   },
   "outputs": [],
   "source": [
    "pickle_file = 'Emotions dataset.pickle'\n",
    "\n",
    "with open(pickle_file, 'rb') as f:\n",
    "    data = pickle.load(f)\n",
    "    train_dataset = data['train_data']\n",
    "    train_labels = data['train_labels']\n",
    "    test_dataset = data['test_data']\n",
    "    test_labels = data['test_labels']\n",
    "    del data\n",
    "    f.close()"
   ]
  },
  {
   "cell_type": "markdown",
   "metadata": {},
   "source": [
    "Загрузим некоторые константы"
   ]
  },
  {
   "cell_type": "code",
   "execution_count": 19,
   "metadata": {
    "collapsed": true
   },
   "outputs": [],
   "source": [
    "number_of_steps = 5001\n",
    "beta = 0.005\n",
    "sigma = 5e-2\n",
    "init_learning_rate = 0.002\n",
    "dropout_value_1 = 0.75\n",
    "dropout_value_2 = 0.85\n",
    "dropout_value_3 = 0.9\n",
    "hidden_layer_1 = 1200\n",
    "hidden_layer_2 = 720\n",
    "hidden_layer_3 = 400\n",
    "batch_size = 128\n",
    "decay_steps = 1000\n",
    "points_count = 68-17\n",
    "labels_count = 7\n",
    "decay_rate = 0.9\n",
    "INF = 1e9 + 7\n",
    "mINF = -1e9 - 7"
   ]
  },
  {
   "cell_type": "code",
   "execution_count": 15,
   "metadata": {},
   "outputs": [
    {
     "name": "stdout",
     "output_type": "stream",
     "text": [
      "Размер тренировочных данных: (1400, 102)\n",
      "Размер тестовых данных: (145, 102)\n"
     ]
    }
   ],
   "source": [
    "print(\"Размер тренировочных данных:\", train_dataset.shape)\n",
    "print(\"Размер тестовых данных:\", test_dataset.shape)"
   ]
  },
  {
   "cell_type": "markdown",
   "metadata": {},
   "source": [
    "### Опишем граф операций, по которым работает наша нейронная сеть"
   ]
  },
  {
   "cell_type": "code",
   "execution_count": 16,
   "metadata": {
    "collapsed": true
   },
   "outputs": [],
   "source": [
    "graph = tf.Graph()\n",
    "\n",
    "with graph.as_default():\n",
    "   \n",
    "    # Загружаем тестовые и тренировочные данные\n",
    "    tf_train_dataset = tf.placeholder(tf.float32, shape = (batch_size, points_count * 2))\n",
    "    tf_train_labels = tf.placeholder(tf.float32, shape = (batch_size, labels_count))\n",
    "    tf_test_dataset = tf.constant(test_dataset)\n",
    "    tf_test_labels = tf.constant(test_labels)\n",
    "\n",
    "    # Инициализируем матрицы весов\n",
    "    weights1 = tf.Variable(\n",
    "                tf.truncated_normal([points_count * 2, hidden_layer_1], stddev = sigma))\n",
    "    weights2 = tf.Variable(\n",
    "                tf.truncated_normal([hidden_layer_1, hidden_layer_2], stddev = sigma))\n",
    "    weights3 = tf.Variable(\n",
    "                tf.truncated_normal([hidden_layer_2, hidden_layer_3], stddev = sigma))\n",
    "    weights4 = tf.Variable(\n",
    "                tf.truncated_normal([hidden_layer_3, labels_count], stddev = sigma))\n",
    "    \n",
    "    # Инициализируем веса для нейронов смещения\n",
    "    biases1 = tf.Variable(\n",
    "                tf.constant(0.1, shape = (hidden_layer_1,)))\n",
    "    biases2 = tf.Variable(\n",
    "                tf.constant(0.1, shape = (hidden_layer_2,)))\n",
    "    biases3 = tf.Variable(\n",
    "                tf.constant(0.1, shape = (hidden_layer_3,)))\n",
    "    biases4 = tf.Variable(\n",
    "                tf.constant(0.1, shape = (labels_count,)))\n",
    "    \n",
    "    # Описываем модель\n",
    "    def model(input, p1, p2, p3):\n",
    "        hidden1 = tf.nn.dropout(tf.nn.relu(tf.matmul(input, weights1) + biases1), p1)\n",
    "        hidden2 = tf.nn.dropout(tf.nn.relu(tf.matmul(hidden1, weights2) + biases2), p2)\n",
    "        hidden3 = tf.nn.dropout(tf.nn.relu(tf.matmul(hidden2, weights3) + biases3), p3)\n",
    "        logits = tf.nn.bias_add(tf.matmul(hidden3, weights4), biases4)\n",
    "        return logits\n",
    "    \n",
    "    # Вычисляем ошибку по формуле перекрёстной энтропии\n",
    "    logits = model(tf_train_dataset, dropout_value_1, dropout_value_2, dropout_value_3)\n",
    "    loss = tf.reduce_mean(\n",
    "        tf.nn.softmax_cross_entropy_with_logits(logits = logits, labels = tf_train_labels)) + (\n",
    "        tf.nn.l2_loss(weights1)\n",
    "        + tf.nn.l2_loss(weights2)\n",
    "        + tf.nn.l2_loss(weights3)) * beta\n",
    "    \n",
    "    # Уменьшаем ошибку, уменьшая скорость обучения на каждом шаге\n",
    "    global_step = tf.Variable(0, dtype = tf.int64)\n",
    "    learning_rate = tf.train.exponential_decay(init_learning_rate, global_step, decay_steps, decay_rate)\n",
    "    optimizer = tf.train.AdamOptimizer(learning_rate, 0.9, 0.999, 1e-08).minimize(loss, global_step = global_step)\n",
    "    model_saver = tf.train.Saver()\n",
    "    \n",
    "    train_prediction = tf.nn.softmax(logits)\n",
    "    test_prediction = tf.nn.softmax(model(test_dataset, 1.0, 1.0, 1.0))"
   ]
  },
  {
   "cell_type": "code",
   "execution_count": null,
   "metadata": {},
   "outputs": [],
   "source": [
    "line = '-----------------'\n",
    "\n",
    "def accuracy(predictions, labels):\n",
    "    array1 = np.argmax(predictions, 1)\n",
    "    array2 = np.argmax(labels, 1)\n",
    "    sumi = np.sum(array1 == array2)\n",
    "    return (100.0 * sumi / predictions.shape[0])\n",
    "\n",
    "with tf.Session(graph = graph) as session:\n",
    "\n",
    "    tf.global_variables_initializer().run()\n",
    "    print('Обучение началось')\n",
    "    \n",
    "    for step in range(number_of_steps):\n",
    "        \n",
    "        # Данные в нейросеть будем загружать небольшими пакетами по 128 примеров\n",
    "        offset = (step * batch_size) % (train_labels.shape[0] - batch_size)\n",
    "        batch_data = train_dataset[offset:(offset + batch_size), :]\n",
    "        batch_labels = train_labels[offset:(offset + batch_size), :]\n",
    "        \n",
    "        feed_dict = {tf_train_dataset : batch_data, tf_train_labels : batch_labels}\n",
    "        \n",
    "        o, l, predictions = session.run([optimizer, loss, train_prediction], feed_dict = feed_dict)\n",
    "        if (step % 1000 == 0):\n",
    "            print(line)\n",
    "            print('Ошибка на шаге %d: %f' % (step, l))\n",
    "            print('Точность на тренировочных данных: %.1f%%' % accuracy(predictions, batch_labels))\n",
    "            print('Точность на тестовых данных: %.1f%%' % accuracy(test_prediction.eval(), test_labels))"
   ]
  }
 ],
 "metadata": {
  "kernelspec": {
   "display_name": "Python 3",
   "language": "python",
   "name": "python3"
  },
  "language_info": {
   "codemirror_mode": {
    "name": "ipython",
    "version": 3
   },
   "file_extension": ".py",
   "mimetype": "text/x-python",
   "name": "python",
   "nbconvert_exporter": "python",
   "pygments_lexer": "ipython3",
   "version": "3.7.4"
  }
 },
 "nbformat": 4,
 "nbformat_minor": 2
}
